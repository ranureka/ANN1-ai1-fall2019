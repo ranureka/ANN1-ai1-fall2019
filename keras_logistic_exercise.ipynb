{
  "nbformat": 4,
  "nbformat_minor": 0,
  "metadata": {
    "colab": {
      "name": "keras_logistic.ipynb",
      "provenance": [],
      "collapsed_sections": [],
      "include_colab_link": true
    },
    "kernelspec": {
      "name": "python3",
      "display_name": "Python 3"
    }
  },
  "cells": [
    {
      "cell_type": "markdown",
      "metadata": {
        "id": "view-in-github",
        "colab_type": "text"
      },
      "source": [
        "<a href=\"https://colab.research.google.com/github/ranureka/ANN1-ai1-fall2019/blob/master/keras_logistic_exercise.ipynb\" target=\"_parent\"><img src=\"https://colab.research.google.com/assets/colab-badge.svg\" alt=\"Open In Colab\"/></a>"
      ]
    },
    {
      "cell_type": "code",
      "metadata": {
        "id": "Wcm4IeLrQlon",
        "colab_type": "code",
        "colab": {
          "base_uri": "https://localhost:8080/",
          "height": 1000
        },
        "outputId": "ebd4d58c-03a3-48c1-d4d0-cf31bd81aad4"
      },
      "source": [
        "!pip install wandb"
      ],
      "execution_count": 1,
      "outputs": [
        {
          "output_type": "stream",
          "text": [
            "Collecting wandb\n",
            "\u001b[?25l  Downloading https://files.pythonhosted.org/packages/79/b7/8f54fbb4b0490764657b89ef760332d0c64e5090d3c22880f86c8471817f/wandb-0.8.18-py2.py3-none-any.whl (1.3MB)\n",
            "\u001b[K     |████████████████████████████████| 1.3MB 3.5MB/s \n",
            "\u001b[?25hRequirement already satisfied: psutil>=5.0.0 in /usr/local/lib/python3.6/dist-packages (from wandb) (5.4.8)\n",
            "Requirement already satisfied: python-dateutil>=2.6.1 in /usr/local/lib/python3.6/dist-packages (from wandb) (2.6.1)\n",
            "Collecting GitPython>=1.0.0\n",
            "\u001b[?25l  Downloading https://files.pythonhosted.org/packages/20/8c/4543981439d23c4ff65b2e62dddd767ebc84a8e664a9b67e840d1e2730d3/GitPython-3.0.5-py3-none-any.whl (455kB)\n",
            "\u001b[K     |████████████████████████████████| 460kB 48.8MB/s \n",
            "\u001b[?25hRequirement already satisfied: nvidia-ml-py3>=7.352.0 in /usr/local/lib/python3.6/dist-packages (from wandb) (7.352.0)\n",
            "Collecting subprocess32>=3.5.3\n",
            "\u001b[?25l  Downloading https://files.pythonhosted.org/packages/32/c8/564be4d12629b912ea431f1a50eb8b3b9d00f1a0b1ceff17f266be190007/subprocess32-3.5.4.tar.gz (97kB)\n",
            "\u001b[K     |████████████████████████████████| 102kB 13.9MB/s \n",
            "\u001b[?25hCollecting sentry-sdk>=0.4.0\n",
            "\u001b[?25l  Downloading https://files.pythonhosted.org/packages/b4/48/a38ff26af174ef2d03c5754c93b7a18818951734fdaa53bf3c2b80e497e7/sentry_sdk-0.13.5-py2.py3-none-any.whl (91kB)\n",
            "\u001b[K     |████████████████████████████████| 92kB 10.8MB/s \n",
            "\u001b[?25hCollecting shortuuid>=0.5.0\n",
            "  Downloading https://files.pythonhosted.org/packages/80/d7/2bfc9332e68d3e15ea97b9b1588b3899ad565120253d3fd71c8f7f13b4fe/shortuuid-0.5.0.tar.gz\n",
            "Collecting graphql-core<3.0.0\n",
            "\u001b[?25l  Downloading https://files.pythonhosted.org/packages/6a/11/bc4a7eb440124271289d93e4d208bd07d94196038fabbe2a52435a07d3d3/graphql_core-2.2.1-py2.py3-none-any.whl (250kB)\n",
            "\u001b[K     |████████████████████████████████| 256kB 52.5MB/s \n",
            "\u001b[?25hRequirement already satisfied: requests>=2.0.0 in /usr/local/lib/python3.6/dist-packages (from wandb) (2.21.0)\n",
            "Collecting docker-pycreds>=0.4.0\n",
            "  Downloading https://files.pythonhosted.org/packages/f5/e8/f6bd1eee09314e7e6dee49cbe2c5e22314ccdb38db16c9fc72d2fa80d054/docker_pycreds-0.4.0-py2.py3-none-any.whl\n",
            "Collecting configparser>=3.8.1\n",
            "  Downloading https://files.pythonhosted.org/packages/7a/2a/95ed0501cf5d8709490b1d3a3f9b5cf340da6c433f896bbe9ce08dbe6785/configparser-4.0.2-py2.py3-none-any.whl\n",
            "Requirement already satisfied: six>=1.10.0 in /usr/local/lib/python3.6/dist-packages (from wandb) (1.12.0)\n",
            "Requirement already satisfied: Click>=7.0 in /usr/local/lib/python3.6/dist-packages (from wandb) (7.0)\n",
            "Collecting watchdog>=0.8.3\n",
            "\u001b[?25l  Downloading https://files.pythonhosted.org/packages/bb/e3/5a55d48a29300160779f0a0d2776d17c1b762a2039b36de528b093b87d5b/watchdog-0.9.0.tar.gz (85kB)\n",
            "\u001b[K     |████████████████████████████████| 92kB 12.0MB/s \n",
            "\u001b[?25hCollecting gql>=0.1.0\n",
            "  Downloading https://files.pythonhosted.org/packages/aa/9c/2933b7791210e00f5c26a6243198cc03af9132c29cf85e4c22cb007f171e/gql-0.1.0.tar.gz\n",
            "Collecting gitdb2>=2.0.0\n",
            "\u001b[?25l  Downloading https://files.pythonhosted.org/packages/03/6c/99296f89bad2ef85626e1df9f677acbee8885bb043ad82ad3ed4746d2325/gitdb2-2.0.6-py2.py3-none-any.whl (63kB)\n",
            "\u001b[K     |████████████████████████████████| 71kB 10.4MB/s \n",
            "\u001b[?25hRequirement already satisfied: certifi in /usr/local/lib/python3.6/dist-packages (from sentry-sdk>=0.4.0->wandb) (2019.11.28)\n",
            "Requirement already satisfied: urllib3>=1.10.0 in /usr/local/lib/python3.6/dist-packages (from sentry-sdk>=0.4.0->wandb) (1.24.3)\n",
            "Collecting rx<3,>=1.6\n",
            "\u001b[?25l  Downloading https://files.pythonhosted.org/packages/33/0f/5ef4ac78e2a538cc1b054eb86285fe0bf7a5dbaeaac2c584757c300515e2/Rx-1.6.1-py2.py3-none-any.whl (179kB)\n",
            "\u001b[K     |████████████████████████████████| 184kB 58.8MB/s \n",
            "\u001b[?25hRequirement already satisfied: promise>=2.1 in /usr/local/lib/python3.6/dist-packages (from graphql-core<3.0.0->wandb) (2.2.1)\n",
            "Requirement already satisfied: idna<2.9,>=2.5 in /usr/local/lib/python3.6/dist-packages (from requests>=2.0.0->wandb) (2.8)\n",
            "Requirement already satisfied: chardet<3.1.0,>=3.0.2 in /usr/local/lib/python3.6/dist-packages (from requests>=2.0.0->wandb) (3.0.4)\n",
            "Requirement already satisfied: PyYAML>=3.10 in /usr/local/lib/python3.6/dist-packages (from watchdog>=0.8.3->wandb) (3.13)\n",
            "Collecting argh>=0.24.1\n",
            "  Downloading https://files.pythonhosted.org/packages/06/1c/e667a7126f0b84aaa1c56844337bf0ac12445d1beb9c8a6199a7314944bf/argh-0.26.2-py2.py3-none-any.whl\n",
            "Collecting pathtools>=0.1.1\n",
            "  Downloading https://files.pythonhosted.org/packages/e7/7f/470d6fcdf23f9f3518f6b0b76be9df16dcc8630ad409947f8be2eb0ed13a/pathtools-0.1.2.tar.gz\n",
            "Collecting smmap2>=2.0.0\n",
            "  Downloading https://files.pythonhosted.org/packages/55/d2/866d45e3a121ee15a1dc013824d58072fd5c7799c9c34d01378eb262ca8f/smmap2-2.0.5-py2.py3-none-any.whl\n",
            "Building wheels for collected packages: subprocess32, shortuuid, watchdog, gql, pathtools\n",
            "  Building wheel for subprocess32 (setup.py) ... \u001b[?25l\u001b[?25hdone\n",
            "  Created wheel for subprocess32: filename=subprocess32-3.5.4-cp36-none-any.whl size=6489 sha256=8d2029595158e16948db1ae5453a72904282d0fab411e8e50ec957629a3f3ad4\n",
            "  Stored in directory: /root/.cache/pip/wheels/68/39/1a/5e402bdfdf004af1786c8b853fd92f8c4a04f22aad179654d1\n",
            "  Building wheel for shortuuid (setup.py) ... \u001b[?25l\u001b[?25hdone\n",
            "  Created wheel for shortuuid: filename=shortuuid-0.5.0-cp36-none-any.whl size=5499 sha256=7df4e61b70a3c80d1b3b4dac6378b1c820dfa661ba24c806c48d4704dfc83213\n",
            "  Stored in directory: /root/.cache/pip/wheels/3f/eb/fd/69e5177f67b505e44acbd1aedfbe44b91768ee0c4cd5636576\n",
            "  Building wheel for watchdog (setup.py) ... \u001b[?25l\u001b[?25hdone\n",
            "  Created wheel for watchdog: filename=watchdog-0.9.0-cp36-none-any.whl size=73652 sha256=eab0bf53f5cdb6396fb3123852db4f4ecbfc6bbb640bc2df425fcaed0e88aad5\n",
            "  Stored in directory: /root/.cache/pip/wheels/61/1d/d0/04cfe495619be2095eb8d89a31c42adb4e42b76495bc8f784c\n",
            "  Building wheel for gql (setup.py) ... \u001b[?25l\u001b[?25hdone\n",
            "  Created wheel for gql: filename=gql-0.1.0-cp36-none-any.whl size=5541 sha256=ab5667bf7c15f359b58bfb1b7b8a40516f68c858dff5ced06455cde638e442f4\n",
            "  Stored in directory: /root/.cache/pip/wheels/a7/8d/65/a3247f500d675d80a01e4d2f0ee44fe99f1faef575bc2a1664\n",
            "  Building wheel for pathtools (setup.py) ... \u001b[?25l\u001b[?25hdone\n",
            "  Created wheel for pathtools: filename=pathtools-0.1.2-cp36-none-any.whl size=8786 sha256=2c45eeebe3950c3bc46ba9a44907efaedeb128334231a66041cd22b83cb7b454\n",
            "  Stored in directory: /root/.cache/pip/wheels/0b/04/79/c3b0c3a0266a3cb4376da31e5bfe8bba0c489246968a68e843\n",
            "Successfully built subprocess32 shortuuid watchdog gql pathtools\n",
            "Installing collected packages: smmap2, gitdb2, GitPython, subprocess32, sentry-sdk, shortuuid, rx, graphql-core, docker-pycreds, configparser, argh, pathtools, watchdog, gql, wandb\n",
            "Successfully installed GitPython-3.0.5 argh-0.26.2 configparser-4.0.2 docker-pycreds-0.4.0 gitdb2-2.0.6 gql-0.1.0 graphql-core-2.2.1 pathtools-0.1.2 rx-1.6.1 sentry-sdk-0.13.5 shortuuid-0.5.0 smmap2-2.0.5 subprocess32-3.5.4 wandb-0.8.18 watchdog-0.9.0\n"
          ],
          "name": "stdout"
        }
      ]
    },
    {
      "cell_type": "code",
      "metadata": {
        "id": "k3fG9-S9RJgG",
        "colab_type": "code",
        "colab": {
          "base_uri": "https://localhost:8080/",
          "height": 193
        },
        "outputId": "fea6f20a-1e3d-4236-cd08-dd72d8b36431"
      },
      "source": [
        "!wandb login"
      ],
      "execution_count": 2,
      "outputs": [
        {
          "output_type": "stream",
          "text": [
            "\u001b[34m\u001b[1mwandb\u001b[0m: (1) Create a W&B account\n",
            "\u001b[34m\u001b[1mwandb\u001b[0m: (2) Use an existing W&B account\n",
            "\u001b[34m\u001b[1mwandb\u001b[0m: (3) Don't visualize my results\n",
            "\u001b[34m\u001b[1mwandb\u001b[0m: Enter your choice: 2\n",
            "\u001b[34m\u001b[1mwandb\u001b[0m: You chose 'Use an existing W&B account'\n",
            "\u001b[34m\u001b[1mwandb\u001b[0m: You can find your API key in your browser here: https://app.wandb.ai/authorize\n",
            "\u001b[34m\u001b[1mwandb\u001b[0m: Paste an API key from your profile and hit enter: 2e8f84d4c8cf930469925e71f319ed929987aab4\n",
            "\u001b[34m\u001b[1mwandb\u001b[0m: Appending key for api.wandb.ai to your netrc file: /root/.netrc\n",
            "\u001b[32mSuccessfully logged in to Weights & Biases!\u001b[0m\n"
          ],
          "name": "stdout"
        }
      ]
    },
    {
      "cell_type": "code",
      "metadata": {
        "id": "eEgH7XjVS9w1",
        "colab_type": "code",
        "colab": {}
      },
      "source": [
        "from keras.datasets import mnist\n",
        "from keras.models import Sequential\n",
        "from keras.layers import Dense, Flatten\n",
        "#taken from lukas/ml-class\n",
        "from keras.utils import to_categorical"
      ],
      "execution_count": 0,
      "outputs": []
    },
    {
      "cell_type": "code",
      "metadata": {
        "id": "-AT9EygtTsPs",
        "colab_type": "code",
        "colab": {}
      },
      "source": [
        "import wandb\n",
        "from wandb.keras import WandbCallback"
      ],
      "execution_count": 0,
      "outputs": []
    },
    {
      "cell_type": "code",
      "metadata": {
        "id": "_RtJqsw4T4Rh",
        "colab_type": "code",
        "colab": {
          "base_uri": "https://localhost:8080/",
          "height": 69
        },
        "outputId": "6b40c69f-bb1a-498e-8fca-9676795fef9a"
      },
      "source": [
        "# logging code\n",
        "run = wandb.init(entity=\"univai-fall\",project=\"harbinger\")\n",
        "config = run.config"
      ],
      "execution_count": 7,
      "outputs": [
        {
          "output_type": "display_data",
          "data": {
            "text/html": [
              "\n",
              "                Logging results to <a href=\"https://wandb.com\" target=\"_blank\">Weights & Biases</a> <a href=\"https://docs.wandb.com/integrations/jupyter.html\" target=\"_blank\">(Documentation)</a>.<br/>\n",
              "                Project page: <a href=\"https://app.wandb.ai/univai-fall/harbinger\" target=\"_blank\">https://app.wandb.ai/univai-fall/harbinger</a><br/>\n",
              "                Run page: <a href=\"https://app.wandb.ai/univai-fall/harbinger/runs/nxh3t3n1\" target=\"_blank\">https://app.wandb.ai/univai-fall/harbinger/runs/nxh3t3n1</a><br/>\n",
              "            "
            ],
            "text/plain": [
              "<IPython.core.display.HTML object>"
            ]
          },
          "metadata": {
            "tags": []
          }
        }
      ]
    },
    {
      "cell_type": "code",
      "metadata": {
        "id": "Cr3K-t7cT7Go",
        "colab_type": "code",
        "colab": {
          "base_uri": "https://localhost:8080/",
          "height": 52
        },
        "outputId": "09d8811c-1474-42a3-efbe-53187104e64a"
      },
      "source": [
        "# load data\n",
        "(X_train, y_train), (X_test, y_test) = mnist.load_data()\n",
        "img_width = X_train.shape[1]\n",
        "img_height = X_train.shape[2]"
      ],
      "execution_count": 8,
      "outputs": [
        {
          "output_type": "stream",
          "text": [
            "Downloading data from https://s3.amazonaws.com/img-datasets/mnist.npz\n",
            "11493376/11490434 [==============================] - 0s 0us/step\n"
          ],
          "name": "stdout"
        }
      ]
    },
    {
      "cell_type": "code",
      "metadata": {
        "id": "68J1JzfdU5Zu",
        "colab_type": "code",
        "colab": {
          "base_uri": "https://localhost:8080/",
          "height": 867
        },
        "outputId": "87328c22-f1dd-4d9f-b9dd-209d2803f86b"
      },
      "source": [
        "print(X_train)"
      ],
      "execution_count": 16,
      "outputs": [
        {
          "output_type": "stream",
          "text": [
            "[[[0. 0. 0. ... 0. 0. 0.]\n",
            "  [0. 0. 0. ... 0. 0. 0.]\n",
            "  [0. 0. 0. ... 0. 0. 0.]\n",
            "  ...\n",
            "  [0. 0. 0. ... 0. 0. 0.]\n",
            "  [0. 0. 0. ... 0. 0. 0.]\n",
            "  [0. 0. 0. ... 0. 0. 0.]]\n",
            "\n",
            " [[0. 0. 0. ... 0. 0. 0.]\n",
            "  [0. 0. 0. ... 0. 0. 0.]\n",
            "  [0. 0. 0. ... 0. 0. 0.]\n",
            "  ...\n",
            "  [0. 0. 0. ... 0. 0. 0.]\n",
            "  [0. 0. 0. ... 0. 0. 0.]\n",
            "  [0. 0. 0. ... 0. 0. 0.]]\n",
            "\n",
            " [[0. 0. 0. ... 0. 0. 0.]\n",
            "  [0. 0. 0. ... 0. 0. 0.]\n",
            "  [0. 0. 0. ... 0. 0. 0.]\n",
            "  ...\n",
            "  [0. 0. 0. ... 0. 0. 0.]\n",
            "  [0. 0. 0. ... 0. 0. 0.]\n",
            "  [0. 0. 0. ... 0. 0. 0.]]\n",
            "\n",
            " ...\n",
            "\n",
            " [[0. 0. 0. ... 0. 0. 0.]\n",
            "  [0. 0. 0. ... 0. 0. 0.]\n",
            "  [0. 0. 0. ... 0. 0. 0.]\n",
            "  ...\n",
            "  [0. 0. 0. ... 0. 0. 0.]\n",
            "  [0. 0. 0. ... 0. 0. 0.]\n",
            "  [0. 0. 0. ... 0. 0. 0.]]\n",
            "\n",
            " [[0. 0. 0. ... 0. 0. 0.]\n",
            "  [0. 0. 0. ... 0. 0. 0.]\n",
            "  [0. 0. 0. ... 0. 0. 0.]\n",
            "  ...\n",
            "  [0. 0. 0. ... 0. 0. 0.]\n",
            "  [0. 0. 0. ... 0. 0. 0.]\n",
            "  [0. 0. 0. ... 0. 0. 0.]]\n",
            "\n",
            " [[0. 0. 0. ... 0. 0. 0.]\n",
            "  [0. 0. 0. ... 0. 0. 0.]\n",
            "  [0. 0. 0. ... 0. 0. 0.]\n",
            "  ...\n",
            "  [0. 0. 0. ... 0. 0. 0.]\n",
            "  [0. 0. 0. ... 0. 0. 0.]\n",
            "  [0. 0. 0. ... 0. 0. 0.]]]\n"
          ],
          "name": "stdout"
        }
      ]
    },
    {
      "cell_type": "code",
      "metadata": {
        "id": "yW-6Owg0VcIo",
        "colab_type": "code",
        "colab": {
          "base_uri": "https://localhost:8080/",
          "height": 35
        },
        "outputId": "fa4b5fbd-9892-4588-a6c8-931d636470c5"
      },
      "source": [
        "print(y_train)"
      ],
      "execution_count": 10,
      "outputs": [
        {
          "output_type": "stream",
          "text": [
            "[5 0 4 ... 5 6 8]\n"
          ],
          "name": "stdout"
        }
      ]
    },
    {
      "cell_type": "code",
      "metadata": {
        "id": "GIF4BkDfVZXd",
        "colab_type": "code",
        "colab": {}
      },
      "source": [
        "#EXERCISE: Normalize, keep to 32 bits, change lr, batch size\n",
        "X_train = X_train.astype('float32')/255.\n",
        "X_test = X_test.astype('float32')/255."
      ],
      "execution_count": 0,
      "outputs": []
    },
    {
      "cell_type": "code",
      "metadata": {
        "id": "nQzoXuntZxNu",
        "colab_type": "code",
        "colab": {
          "base_uri": "https://localhost:8080/",
          "height": 35
        },
        "outputId": "6b041c33-72a0-4634-f8ca-b34bc5c52c88"
      },
      "source": [
        "print(X_train.shape)"
      ],
      "execution_count": 15,
      "outputs": [
        {
          "output_type": "stream",
          "text": [
            "(60000, 28, 28)\n"
          ],
          "name": "stdout"
        }
      ]
    },
    {
      "cell_type": "code",
      "metadata": {
        "id": "J7C9YFGfZ1Nt",
        "colab_type": "code",
        "colab": {}
      },
      "source": [
        "# one hot encoding outputs\n",
        "y_train = to_categorical(y_train)\n",
        "y_test = to_categorical(y_test)\n",
        "labels = range(10)"
      ],
      "execution_count": 0,
      "outputs": []
    },
    {
      "cell_type": "code",
      "metadata": {
        "id": "DimJeepqa0Wk",
        "colab_type": "code",
        "colab": {
          "base_uri": "https://localhost:8080/",
          "height": 139
        },
        "outputId": "c8195614-9a48-43db-cde9-d751d5e8eb20"
      },
      "source": [
        "y_train"
      ],
      "execution_count": 14,
      "outputs": [
        {
          "output_type": "execute_result",
          "data": {
            "text/plain": [
              "array([[0., 0., 0., ..., 0., 0., 0.],\n",
              "       [1., 0., 0., ..., 0., 0., 0.],\n",
              "       [0., 0., 0., ..., 0., 0., 0.],\n",
              "       ...,\n",
              "       [0., 0., 0., ..., 0., 0., 0.],\n",
              "       [0., 0., 0., ..., 0., 0., 0.],\n",
              "       [0., 0., 0., ..., 0., 1., 0.]], dtype=float32)"
            ]
          },
          "metadata": {
            "tags": []
          },
          "execution_count": 14
        }
      ]
    },
    {
      "cell_type": "code",
      "metadata": {
        "id": "V0wbJjRga11l",
        "colab_type": "code",
        "colab": {}
      },
      "source": [
        "num_classes = y_train.shape[1]"
      ],
      "execution_count": 0,
      "outputs": []
    },
    {
      "cell_type": "code",
      "metadata": {
        "id": "nGczbW21b5pD",
        "colab_type": "code",
        "colab": {
          "base_uri": "https://localhost:8080/",
          "height": 383
        },
        "outputId": "55dbd255-7fc8-4a39-d9ea-8f07e56ccacb"
      },
      "source": [
        "# create model\n",
        "model = Sequential()\n",
        "model.add(Flatten(input_shape=(img_width, img_height)))\n",
        "model.add(Dense(num_classes, activation='softmax'))\n",
        "model.compile(loss='categorical_crossentropy', optimizer='adam',\n",
        "              metrics=['accuracy'])\n",
        "model.summary()"
      ],
      "execution_count": 25,
      "outputs": [
        {
          "output_type": "error",
          "ename": "ValueError",
          "evalue": "ignored",
          "traceback": [
            "\u001b[0;31m---------------------------------------------------------------------------\u001b[0m",
            "\u001b[0;31mValueError\u001b[0m                                Traceback (most recent call last)",
            "\u001b[0;32m<ipython-input-25-a205b2d8a995>\u001b[0m in \u001b[0;36m<module>\u001b[0;34m()\u001b[0m\n\u001b[1;32m      3\u001b[0m \u001b[0mmodel\u001b[0m\u001b[0;34m.\u001b[0m\u001b[0madd\u001b[0m\u001b[0;34m(\u001b[0m\u001b[0mDense\u001b[0m\u001b[0;34m(\u001b[0m\u001b[0mnum_classes\u001b[0m\u001b[0;34m,\u001b[0m \u001b[0mactivation\u001b[0m\u001b[0;34m=\u001b[0m\u001b[0;34m'softmax'\u001b[0m\u001b[0;34m)\u001b[0m\u001b[0;34m)\u001b[0m\u001b[0;34m\u001b[0m\u001b[0;34m\u001b[0m\u001b[0m\n\u001b[1;32m      4\u001b[0m model.compile(loss='categorical_crossentropy', optimizer='ReLU',\n\u001b[0;32m----> 5\u001b[0;31m               metrics=['accuracy'])\n\u001b[0m\u001b[1;32m      6\u001b[0m \u001b[0mmodel\u001b[0m\u001b[0;34m.\u001b[0m\u001b[0msummary\u001b[0m\u001b[0;34m(\u001b[0m\u001b[0;34m)\u001b[0m\u001b[0;34m\u001b[0m\u001b[0;34m\u001b[0m\u001b[0m\n",
            "\u001b[0;32m/usr/local/lib/python3.6/dist-packages/keras/engine/training.py\u001b[0m in \u001b[0;36mcompile\u001b[0;34m(self, optimizer, loss, metrics, loss_weights, sample_weight_mode, weighted_metrics, target_tensors, **kwargs)\u001b[0m\n\u001b[1;32m     97\u001b[0m                 \u001b[0;31m`\u001b[0m\u001b[0moptimizer\u001b[0m\u001b[0;31m`\u001b[0m\u001b[0;34m,\u001b[0m\u001b[0;31m \u001b[0m\u001b[0;31m`\u001b[0m\u001b[0mloss\u001b[0m\u001b[0;31m`\u001b[0m\u001b[0;34m,\u001b[0m\u001b[0;31m \u001b[0m\u001b[0;31m`\u001b[0m\u001b[0mmetrics\u001b[0m\u001b[0;31m`\u001b[0m \u001b[0;32mor\u001b[0m\u001b[0;31m \u001b[0m\u001b[0;31m`\u001b[0m\u001b[0msample_weight_mode\u001b[0m\u001b[0;31m`\u001b[0m\u001b[0;34m.\u001b[0m\u001b[0;34m\u001b[0m\u001b[0;34m\u001b[0m\u001b[0m\n\u001b[1;32m     98\u001b[0m         \"\"\"\n\u001b[0;32m---> 99\u001b[0;31m         \u001b[0mself\u001b[0m\u001b[0;34m.\u001b[0m\u001b[0moptimizer\u001b[0m \u001b[0;34m=\u001b[0m \u001b[0moptimizers\u001b[0m\u001b[0;34m.\u001b[0m\u001b[0mget\u001b[0m\u001b[0;34m(\u001b[0m\u001b[0moptimizer\u001b[0m\u001b[0;34m)\u001b[0m\u001b[0;34m\u001b[0m\u001b[0;34m\u001b[0m\u001b[0m\n\u001b[0m\u001b[1;32m    100\u001b[0m         \u001b[0mself\u001b[0m\u001b[0;34m.\u001b[0m\u001b[0mloss\u001b[0m \u001b[0;34m=\u001b[0m \u001b[0mloss\u001b[0m \u001b[0;32mor\u001b[0m \u001b[0;34m[\u001b[0m\u001b[0;34m]\u001b[0m\u001b[0;34m\u001b[0m\u001b[0;34m\u001b[0m\u001b[0m\n\u001b[1;32m    101\u001b[0m         \u001b[0mself\u001b[0m\u001b[0;34m.\u001b[0m\u001b[0mmetrics\u001b[0m \u001b[0;34m=\u001b[0m \u001b[0mmetrics\u001b[0m \u001b[0;32mor\u001b[0m \u001b[0;34m[\u001b[0m\u001b[0;34m]\u001b[0m\u001b[0;34m\u001b[0m\u001b[0;34m\u001b[0m\u001b[0m\n",
            "\u001b[0;32m/usr/local/lib/python3.6/dist-packages/keras/optimizers.py\u001b[0m in \u001b[0;36mget\u001b[0;34m(identifier)\u001b[0m\n\u001b[1;32m    797\u001b[0m     \u001b[0;32melif\u001b[0m \u001b[0misinstance\u001b[0m\u001b[0;34m(\u001b[0m\u001b[0midentifier\u001b[0m\u001b[0;34m,\u001b[0m \u001b[0msix\u001b[0m\u001b[0;34m.\u001b[0m\u001b[0mstring_types\u001b[0m\u001b[0;34m)\u001b[0m\u001b[0;34m:\u001b[0m\u001b[0;34m\u001b[0m\u001b[0;34m\u001b[0m\u001b[0m\n\u001b[1;32m    798\u001b[0m         \u001b[0mconfig\u001b[0m \u001b[0;34m=\u001b[0m \u001b[0;34m{\u001b[0m\u001b[0;34m'class_name'\u001b[0m\u001b[0;34m:\u001b[0m \u001b[0mstr\u001b[0m\u001b[0;34m(\u001b[0m\u001b[0midentifier\u001b[0m\u001b[0;34m)\u001b[0m\u001b[0;34m,\u001b[0m \u001b[0;34m'config'\u001b[0m\u001b[0;34m:\u001b[0m \u001b[0;34m{\u001b[0m\u001b[0;34m}\u001b[0m\u001b[0;34m}\u001b[0m\u001b[0;34m\u001b[0m\u001b[0;34m\u001b[0m\u001b[0m\n\u001b[0;32m--> 799\u001b[0;31m         \u001b[0;32mreturn\u001b[0m \u001b[0mdeserialize\u001b[0m\u001b[0;34m(\u001b[0m\u001b[0mconfig\u001b[0m\u001b[0;34m)\u001b[0m\u001b[0;34m\u001b[0m\u001b[0;34m\u001b[0m\u001b[0m\n\u001b[0m\u001b[1;32m    800\u001b[0m     \u001b[0;32mif\u001b[0m \u001b[0misinstance\u001b[0m\u001b[0;34m(\u001b[0m\u001b[0midentifier\u001b[0m\u001b[0;34m,\u001b[0m \u001b[0mOptimizer\u001b[0m\u001b[0;34m)\u001b[0m\u001b[0;34m:\u001b[0m\u001b[0;34m\u001b[0m\u001b[0;34m\u001b[0m\u001b[0m\n\u001b[1;32m    801\u001b[0m         \u001b[0;32mreturn\u001b[0m \u001b[0midentifier\u001b[0m\u001b[0;34m\u001b[0m\u001b[0;34m\u001b[0m\u001b[0m\n",
            "\u001b[0;32m/usr/local/lib/python3.6/dist-packages/keras/optimizers.py\u001b[0m in \u001b[0;36mdeserialize\u001b[0;34m(config, custom_objects)\u001b[0m\n\u001b[1;32m    769\u001b[0m                                     \u001b[0mmodule_objects\u001b[0m\u001b[0;34m=\u001b[0m\u001b[0mall_classes\u001b[0m\u001b[0;34m,\u001b[0m\u001b[0;34m\u001b[0m\u001b[0;34m\u001b[0m\u001b[0m\n\u001b[1;32m    770\u001b[0m                                     \u001b[0mcustom_objects\u001b[0m\u001b[0;34m=\u001b[0m\u001b[0mcustom_objects\u001b[0m\u001b[0;34m,\u001b[0m\u001b[0;34m\u001b[0m\u001b[0;34m\u001b[0m\u001b[0m\n\u001b[0;32m--> 771\u001b[0;31m                                     printable_module_name='optimizer')\n\u001b[0m\u001b[1;32m    772\u001b[0m \u001b[0;34m\u001b[0m\u001b[0m\n\u001b[1;32m    773\u001b[0m \u001b[0;34m\u001b[0m\u001b[0m\n",
            "\u001b[0;32m/usr/local/lib/python3.6/dist-packages/keras/utils/generic_utils.py\u001b[0m in \u001b[0;36mdeserialize_keras_object\u001b[0;34m(identifier, module_objects, custom_objects, printable_module_name)\u001b[0m\n\u001b[1;32m    138\u001b[0m             \u001b[0;32mif\u001b[0m \u001b[0mcls\u001b[0m \u001b[0;32mis\u001b[0m \u001b[0;32mNone\u001b[0m\u001b[0;34m:\u001b[0m\u001b[0;34m\u001b[0m\u001b[0;34m\u001b[0m\u001b[0m\n\u001b[1;32m    139\u001b[0m                 raise ValueError('Unknown ' + printable_module_name +\n\u001b[0;32m--> 140\u001b[0;31m                                  ': ' + class_name)\n\u001b[0m\u001b[1;32m    141\u001b[0m         \u001b[0;32mif\u001b[0m \u001b[0mhasattr\u001b[0m\u001b[0;34m(\u001b[0m\u001b[0mcls\u001b[0m\u001b[0;34m,\u001b[0m \u001b[0;34m'from_config'\u001b[0m\u001b[0;34m)\u001b[0m\u001b[0;34m:\u001b[0m\u001b[0;34m\u001b[0m\u001b[0;34m\u001b[0m\u001b[0m\n\u001b[1;32m    142\u001b[0m             \u001b[0mcustom_objects\u001b[0m \u001b[0;34m=\u001b[0m \u001b[0mcustom_objects\u001b[0m \u001b[0;32mor\u001b[0m \u001b[0;34m{\u001b[0m\u001b[0;34m}\u001b[0m\u001b[0;34m\u001b[0m\u001b[0;34m\u001b[0m\u001b[0m\n",
            "\u001b[0;31mValueError\u001b[0m: Unknown optimizer: ReLU"
          ]
        }
      ]
    },
    {
      "cell_type": "code",
      "metadata": {
        "id": "so5mrioZeKz2",
        "colab_type": "code",
        "colab": {
          "base_uri": "https://localhost:8080/",
          "height": 1000
        },
        "outputId": "f40603ce-b104-4d6f-af5a-0ad5ca68fc35"
      },
      "source": [
        "# Fit the model\n",
        "model.fit(X_train, y_train, epochs=100, validation_data=(X_test, y_test), callbacks=[WandbCallback(data_type=\"image\", labels=labels, save_model=False)])"
      ],
      "execution_count": 23,
      "outputs": [
        {
          "output_type": "stream",
          "text": [
            "Train on 60000 samples, validate on 10000 samples\n",
            "Epoch 1/100\n",
            " 3968/60000 [>.............................] - ETA: 7s - loss: 0.2115 - acc: 0.9390 "
          ],
          "name": "stdout"
        },
        {
          "output_type": "stream",
          "text": [
            "/usr/local/lib/python3.6/dist-packages/keras/callbacks.py:95: RuntimeWarning: Method (on_train_batch_end) is slow compared to the batch update (0.346459). Check your callbacks.\n",
            "  % (hook_name, delta_t_median), RuntimeWarning)\n",
            "/usr/local/lib/python3.6/dist-packages/keras/callbacks.py:95: RuntimeWarning: Method (on_train_batch_end) is slow compared to the batch update (0.174257). Check your callbacks.\n",
            "  % (hook_name, delta_t_median), RuntimeWarning)\n"
          ],
          "name": "stderr"
        },
        {
          "output_type": "stream",
          "text": [
            "60000/60000 [==============================] - 3s 50us/step - loss: 0.2270 - acc: 0.9376 - val_loss: 0.2835 - val_acc: 0.9266\n",
            "Epoch 2/100\n",
            "60000/60000 [==============================] - 3s 45us/step - loss: 0.2264 - acc: 0.9368 - val_loss: 0.2836 - val_acc: 0.9265\n",
            "Epoch 3/100\n",
            "60000/60000 [==============================] - 3s 45us/step - loss: 0.2262 - acc: 0.9374 - val_loss: 0.2850 - val_acc: 0.9265\n",
            "Epoch 4/100\n",
            "60000/60000 [==============================] - 3s 45us/step - loss: 0.2267 - acc: 0.9378 - val_loss: 0.2838 - val_acc: 0.9267\n",
            "Epoch 5/100\n",
            "60000/60000 [==============================] - 3s 45us/step - loss: 0.2264 - acc: 0.9375 - val_loss: 0.2836 - val_acc: 0.9270\n",
            "Epoch 6/100\n",
            "60000/60000 [==============================] - 3s 45us/step - loss: 0.2258 - acc: 0.9372 - val_loss: 0.2842 - val_acc: 0.9276\n",
            "Epoch 7/100\n",
            "60000/60000 [==============================] - 3s 44us/step - loss: 0.2256 - acc: 0.9375 - val_loss: 0.2849 - val_acc: 0.9262\n",
            "Epoch 8/100\n",
            "60000/60000 [==============================] - 3s 44us/step - loss: 0.2259 - acc: 0.9374 - val_loss: 0.2828 - val_acc: 0.9270\n",
            "Epoch 9/100\n",
            "60000/60000 [==============================] - 3s 45us/step - loss: 0.2251 - acc: 0.9384 - val_loss: 0.2892 - val_acc: 0.9260\n",
            "Epoch 10/100\n",
            "60000/60000 [==============================] - 3s 44us/step - loss: 0.2254 - acc: 0.9371 - val_loss: 0.2840 - val_acc: 0.9277\n",
            "Epoch 11/100\n",
            "60000/60000 [==============================] - 3s 44us/step - loss: 0.2249 - acc: 0.9381 - val_loss: 0.2901 - val_acc: 0.9245\n",
            "Epoch 12/100\n",
            "60000/60000 [==============================] - 3s 44us/step - loss: 0.2251 - acc: 0.9373 - val_loss: 0.2856 - val_acc: 0.9277\n",
            "Epoch 13/100\n",
            "60000/60000 [==============================] - 3s 45us/step - loss: 0.2245 - acc: 0.9382 - val_loss: 0.2867 - val_acc: 0.9269\n",
            "Epoch 14/100\n",
            "60000/60000 [==============================] - 3s 44us/step - loss: 0.2248 - acc: 0.9377 - val_loss: 0.2867 - val_acc: 0.9275\n",
            "Epoch 15/100\n",
            "60000/60000 [==============================] - 3s 44us/step - loss: 0.2245 - acc: 0.9374 - val_loss: 0.2905 - val_acc: 0.9264\n",
            "Epoch 16/100\n",
            "60000/60000 [==============================] - 3s 45us/step - loss: 0.2244 - acc: 0.9376 - val_loss: 0.2879 - val_acc: 0.9254\n",
            "Epoch 17/100\n",
            "60000/60000 [==============================] - 3s 45us/step - loss: 0.2240 - acc: 0.9377 - val_loss: 0.2874 - val_acc: 0.9283\n",
            "Epoch 18/100\n",
            "60000/60000 [==============================] - 3s 45us/step - loss: 0.2238 - acc: 0.9379 - val_loss: 0.2888 - val_acc: 0.9260\n",
            "Epoch 19/100\n",
            "60000/60000 [==============================] - 3s 44us/step - loss: 0.2238 - acc: 0.9382 - val_loss: 0.2889 - val_acc: 0.9268\n",
            "Epoch 20/100\n",
            "60000/60000 [==============================] - 3s 45us/step - loss: 0.2239 - acc: 0.9377 - val_loss: 0.2885 - val_acc: 0.9271\n",
            "Epoch 21/100\n",
            "60000/60000 [==============================] - 3s 44us/step - loss: 0.2236 - acc: 0.9381 - val_loss: 0.2904 - val_acc: 0.9263\n",
            "Epoch 22/100\n",
            "60000/60000 [==============================] - 3s 44us/step - loss: 0.2234 - acc: 0.9383 - val_loss: 0.2875 - val_acc: 0.9260\n",
            "Epoch 23/100\n",
            "60000/60000 [==============================] - 3s 45us/step - loss: 0.2235 - acc: 0.9379 - val_loss: 0.2947 - val_acc: 0.9249\n",
            "Epoch 24/100\n",
            "60000/60000 [==============================] - 3s 44us/step - loss: 0.2232 - acc: 0.9374 - val_loss: 0.2902 - val_acc: 0.9266\n",
            "Epoch 25/100\n",
            "60000/60000 [==============================] - 3s 44us/step - loss: 0.2232 - acc: 0.9382 - val_loss: 0.2919 - val_acc: 0.9261\n",
            "Epoch 26/100\n",
            "60000/60000 [==============================] - 3s 45us/step - loss: 0.2230 - acc: 0.9380 - val_loss: 0.2917 - val_acc: 0.9239\n",
            "Epoch 27/100\n",
            "60000/60000 [==============================] - 3s 44us/step - loss: 0.2225 - acc: 0.9382 - val_loss: 0.2947 - val_acc: 0.9248\n",
            "Epoch 28/100\n",
            "60000/60000 [==============================] - 3s 43us/step - loss: 0.2228 - acc: 0.9383 - val_loss: 0.2921 - val_acc: 0.9261\n",
            "Epoch 29/100\n",
            "60000/60000 [==============================] - 3s 44us/step - loss: 0.2224 - acc: 0.9379 - val_loss: 0.2908 - val_acc: 0.9267\n",
            "Epoch 30/100\n",
            "60000/60000 [==============================] - 3s 44us/step - loss: 0.2229 - acc: 0.9381 - val_loss: 0.2903 - val_acc: 0.9264\n",
            "Epoch 31/100\n",
            "60000/60000 [==============================] - 3s 43us/step - loss: 0.2217 - acc: 0.9384 - val_loss: 0.2904 - val_acc: 0.9266\n",
            "Epoch 32/100\n",
            "60000/60000 [==============================] - 3s 44us/step - loss: 0.2223 - acc: 0.9385 - val_loss: 0.2919 - val_acc: 0.9259\n",
            "Epoch 33/100\n",
            "60000/60000 [==============================] - 3s 43us/step - loss: 0.2221 - acc: 0.9379 - val_loss: 0.2918 - val_acc: 0.9271\n",
            "Epoch 34/100\n",
            "60000/60000 [==============================] - 3s 43us/step - loss: 0.2220 - acc: 0.9383 - val_loss: 0.2902 - val_acc: 0.9296\n",
            "Epoch 35/100\n",
            "60000/60000 [==============================] - 3s 44us/step - loss: 0.2216 - acc: 0.9386 - val_loss: 0.2898 - val_acc: 0.9291\n",
            "Epoch 36/100\n",
            "60000/60000 [==============================] - 3s 44us/step - loss: 0.2218 - acc: 0.9381 - val_loss: 0.2961 - val_acc: 0.9238\n",
            "Epoch 37/100\n",
            "60000/60000 [==============================] - 3s 44us/step - loss: 0.2218 - acc: 0.9381 - val_loss: 0.2922 - val_acc: 0.9259\n",
            "Epoch 38/100\n",
            "60000/60000 [==============================] - 3s 43us/step - loss: 0.2214 - acc: 0.9384 - val_loss: 0.2936 - val_acc: 0.9263\n",
            "Epoch 39/100\n",
            "60000/60000 [==============================] - 3s 47us/step - loss: 0.2219 - acc: 0.9383 - val_loss: 0.2919 - val_acc: 0.9283\n",
            "Epoch 40/100\n",
            "60000/60000 [==============================] - 3s 46us/step - loss: 0.2210 - acc: 0.9381 - val_loss: 0.2931 - val_acc: 0.9268\n",
            "Epoch 41/100\n",
            "60000/60000 [==============================] - 3s 44us/step - loss: 0.2212 - acc: 0.9381 - val_loss: 0.2971 - val_acc: 0.9265\n",
            "Epoch 42/100\n",
            "60000/60000 [==============================] - 3s 44us/step - loss: 0.2210 - acc: 0.9385 - val_loss: 0.2949 - val_acc: 0.9259\n",
            "Epoch 43/100\n",
            "60000/60000 [==============================] - 3s 43us/step - loss: 0.2208 - acc: 0.9386 - val_loss: 0.2933 - val_acc: 0.9253\n",
            "Epoch 44/100\n",
            "60000/60000 [==============================] - 3s 44us/step - loss: 0.2212 - acc: 0.9394 - val_loss: 0.2955 - val_acc: 0.9250\n",
            "Epoch 45/100\n",
            "60000/60000 [==============================] - 3s 43us/step - loss: 0.2205 - acc: 0.9387 - val_loss: 0.2958 - val_acc: 0.9246\n",
            "Epoch 46/100\n",
            "60000/60000 [==============================] - 3s 43us/step - loss: 0.2208 - acc: 0.9380 - val_loss: 0.2944 - val_acc: 0.9265\n",
            "Epoch 47/100\n",
            "60000/60000 [==============================] - 3s 44us/step - loss: 0.2209 - acc: 0.9383 - val_loss: 0.3007 - val_acc: 0.9237\n",
            "Epoch 48/100\n",
            "60000/60000 [==============================] - 3s 43us/step - loss: 0.2205 - acc: 0.9381 - val_loss: 0.2979 - val_acc: 0.9263\n",
            "Epoch 49/100\n",
            "60000/60000 [==============================] - 3s 43us/step - loss: 0.2202 - acc: 0.9382 - val_loss: 0.2964 - val_acc: 0.9249\n",
            "Epoch 50/100\n",
            "60000/60000 [==============================] - 3s 43us/step - loss: 0.2203 - acc: 0.9385 - val_loss: 0.2969 - val_acc: 0.9260\n",
            "Epoch 51/100\n",
            "60000/60000 [==============================] - 3s 43us/step - loss: 0.2206 - acc: 0.9390 - val_loss: 0.2941 - val_acc: 0.9259\n",
            "Epoch 52/100\n",
            "60000/60000 [==============================] - 3s 43us/step - loss: 0.2198 - acc: 0.9385 - val_loss: 0.2940 - val_acc: 0.9270\n",
            "Epoch 53/100\n",
            "60000/60000 [==============================] - 3s 45us/step - loss: 0.2201 - acc: 0.9388 - val_loss: 0.2982 - val_acc: 0.9251\n",
            "Epoch 54/100\n",
            "60000/60000 [==============================] - 3s 44us/step - loss: 0.2200 - acc: 0.9383 - val_loss: 0.2978 - val_acc: 0.9270\n",
            "Epoch 55/100\n",
            "60000/60000 [==============================] - 3s 43us/step - loss: 0.2197 - acc: 0.9390 - val_loss: 0.2956 - val_acc: 0.9262\n",
            "Epoch 56/100\n",
            "60000/60000 [==============================] - 3s 43us/step - loss: 0.2197 - acc: 0.9385 - val_loss: 0.2989 - val_acc: 0.9260\n",
            "Epoch 57/100\n",
            "60000/60000 [==============================] - 3s 43us/step - loss: 0.2200 - acc: 0.9393 - val_loss: 0.2979 - val_acc: 0.9261\n",
            "Epoch 58/100\n",
            "60000/60000 [==============================] - 3s 43us/step - loss: 0.2196 - acc: 0.9385 - val_loss: 0.2982 - val_acc: 0.9263\n",
            "Epoch 59/100\n",
            "60000/60000 [==============================] - 3s 43us/step - loss: 0.2194 - acc: 0.9389 - val_loss: 0.2994 - val_acc: 0.9255\n",
            "Epoch 60/100\n",
            "60000/60000 [==============================] - 3s 44us/step - loss: 0.2197 - acc: 0.9385 - val_loss: 0.2998 - val_acc: 0.9262\n",
            "Epoch 61/100\n",
            "60000/60000 [==============================] - 3s 44us/step - loss: 0.2196 - acc: 0.9380 - val_loss: 0.2979 - val_acc: 0.9269\n",
            "Epoch 62/100\n",
            "60000/60000 [==============================] - 3s 43us/step - loss: 0.2189 - acc: 0.9390 - val_loss: 0.2986 - val_acc: 0.9252\n",
            "Epoch 63/100\n",
            "60000/60000 [==============================] - 3s 44us/step - loss: 0.2193 - acc: 0.9391 - val_loss: 0.2990 - val_acc: 0.9245\n",
            "Epoch 64/100\n",
            "60000/60000 [==============================] - 3s 44us/step - loss: 0.2190 - acc: 0.9395 - val_loss: 0.3025 - val_acc: 0.9243\n",
            "Epoch 65/100\n",
            "60000/60000 [==============================] - 3s 46us/step - loss: 0.2189 - acc: 0.9388 - val_loss: 0.2994 - val_acc: 0.9273\n",
            "Epoch 66/100\n",
            "60000/60000 [==============================] - 3s 45us/step - loss: 0.2186 - acc: 0.9392 - val_loss: 0.3011 - val_acc: 0.9253\n",
            "Epoch 67/100\n",
            "60000/60000 [==============================] - 3s 45us/step - loss: 0.2193 - acc: 0.9388 - val_loss: 0.3032 - val_acc: 0.9237\n",
            "Epoch 68/100\n",
            "60000/60000 [==============================] - 3s 45us/step - loss: 0.2189 - acc: 0.9397 - val_loss: 0.2988 - val_acc: 0.9277\n",
            "Epoch 69/100\n",
            "60000/60000 [==============================] - 3s 44us/step - loss: 0.2189 - acc: 0.9391 - val_loss: 0.3004 - val_acc: 0.9255\n",
            "Epoch 70/100\n",
            "60000/60000 [==============================] - 3s 43us/step - loss: 0.2187 - acc: 0.9395 - val_loss: 0.3015 - val_acc: 0.9235\n",
            "Epoch 71/100\n",
            "60000/60000 [==============================] - 3s 44us/step - loss: 0.2187 - acc: 0.9390 - val_loss: 0.3011 - val_acc: 0.9264\n",
            "Epoch 72/100\n",
            "60000/60000 [==============================] - 3s 44us/step - loss: 0.2184 - acc: 0.9387 - val_loss: 0.3029 - val_acc: 0.9249\n",
            "Epoch 73/100\n",
            "60000/60000 [==============================] - 3s 43us/step - loss: 0.2184 - acc: 0.9394 - val_loss: 0.2990 - val_acc: 0.9272\n",
            "Epoch 74/100\n",
            "60000/60000 [==============================] - 3s 43us/step - loss: 0.2187 - acc: 0.9392 - val_loss: 0.3042 - val_acc: 0.9243\n",
            "Epoch 75/100\n",
            "60000/60000 [==============================] - 3s 44us/step - loss: 0.2184 - acc: 0.9394 - val_loss: 0.3016 - val_acc: 0.9255\n",
            "Epoch 76/100\n",
            "60000/60000 [==============================] - 3s 43us/step - loss: 0.2181 - acc: 0.9393 - val_loss: 0.3027 - val_acc: 0.9251\n",
            "Epoch 77/100\n",
            "60000/60000 [==============================] - 3s 43us/step - loss: 0.2185 - acc: 0.9396 - val_loss: 0.3063 - val_acc: 0.9253\n",
            "Epoch 78/100\n",
            "60000/60000 [==============================] - 3s 44us/step - loss: 0.2183 - acc: 0.9390 - val_loss: 0.3010 - val_acc: 0.9252\n",
            "Epoch 79/100\n",
            "60000/60000 [==============================] - 3s 45us/step - loss: 0.2181 - acc: 0.9398 - val_loss: 0.3021 - val_acc: 0.9246\n",
            "Epoch 80/100\n",
            "60000/60000 [==============================] - 3s 44us/step - loss: 0.2183 - acc: 0.9390 - val_loss: 0.2992 - val_acc: 0.9247\n",
            "Epoch 81/100\n",
            "60000/60000 [==============================] - 3s 43us/step - loss: 0.2182 - acc: 0.9392 - val_loss: 0.2990 - val_acc: 0.9257\n",
            "Epoch 82/100\n",
            "60000/60000 [==============================] - 3s 44us/step - loss: 0.2181 - acc: 0.9393 - val_loss: 0.3002 - val_acc: 0.9278\n",
            "Epoch 83/100\n",
            "60000/60000 [==============================] - 3s 43us/step - loss: 0.2177 - acc: 0.9387 - val_loss: 0.3045 - val_acc: 0.9241\n",
            "Epoch 84/100\n",
            "60000/60000 [==============================] - 3s 43us/step - loss: 0.2175 - acc: 0.9390 - val_loss: 0.3035 - val_acc: 0.9244\n",
            "Epoch 85/100\n",
            "60000/60000 [==============================] - 3s 43us/step - loss: 0.2177 - acc: 0.9394 - val_loss: 0.3014 - val_acc: 0.9262\n",
            "Epoch 86/100\n",
            "60000/60000 [==============================] - 3s 43us/step - loss: 0.2177 - acc: 0.9391 - val_loss: 0.3047 - val_acc: 0.9249\n",
            "Epoch 87/100\n",
            "60000/60000 [==============================] - 3s 44us/step - loss: 0.2179 - acc: 0.9390 - val_loss: 0.3060 - val_acc: 0.9238\n",
            "Epoch 88/100\n",
            "60000/60000 [==============================] - 3s 43us/step - loss: 0.2179 - acc: 0.9393 - val_loss: 0.3029 - val_acc: 0.9259\n",
            "Epoch 89/100\n",
            "60000/60000 [==============================] - 3s 45us/step - loss: 0.2175 - acc: 0.9398 - val_loss: 0.3033 - val_acc: 0.9240\n",
            "Epoch 90/100\n",
            "60000/60000 [==============================] - 3s 44us/step - loss: 0.2175 - acc: 0.9388 - val_loss: 0.3052 - val_acc: 0.9258\n",
            "Epoch 91/100\n",
            "60000/60000 [==============================] - 3s 44us/step - loss: 0.2175 - acc: 0.9396 - val_loss: 0.3055 - val_acc: 0.9251\n",
            "Epoch 92/100\n",
            "60000/60000 [==============================] - 3s 43us/step - loss: 0.2176 - acc: 0.9392 - val_loss: 0.3046 - val_acc: 0.9246\n",
            "Epoch 93/100\n",
            "60000/60000 [==============================] - 3s 43us/step - loss: 0.2175 - acc: 0.9393 - val_loss: 0.3048 - val_acc: 0.9251\n",
            "Epoch 94/100\n",
            "60000/60000 [==============================] - 3s 43us/step - loss: 0.2169 - acc: 0.9394 - val_loss: 0.3067 - val_acc: 0.9245\n",
            "Epoch 95/100\n",
            "60000/60000 [==============================] - 3s 43us/step - loss: 0.2167 - acc: 0.9390 - val_loss: 0.3074 - val_acc: 0.9243\n",
            "Epoch 96/100\n",
            "60000/60000 [==============================] - 3s 43us/step - loss: 0.2172 - acc: 0.9392 - val_loss: 0.3051 - val_acc: 0.9254\n",
            "Epoch 97/100\n",
            "60000/60000 [==============================] - 3s 44us/step - loss: 0.2173 - acc: 0.9385 - val_loss: 0.3087 - val_acc: 0.9233\n",
            "Epoch 98/100\n",
            "60000/60000 [==============================] - 3s 43us/step - loss: 0.2172 - acc: 0.9395 - val_loss: 0.3083 - val_acc: 0.9239\n",
            "Epoch 99/100\n",
            "60000/60000 [==============================] - 3s 44us/step - loss: 0.2169 - acc: 0.9388 - val_loss: 0.3066 - val_acc: 0.9232\n",
            "Epoch 100/100\n",
            "60000/60000 [==============================] - 3s 44us/step - loss: 0.2165 - acc: 0.9395 - val_loss: 0.3054 - val_acc: 0.9256\n"
          ],
          "name": "stdout"
        },
        {
          "output_type": "execute_result",
          "data": {
            "text/plain": [
              "<keras.callbacks.History at 0x7f5c4af8b400>"
            ]
          },
          "metadata": {
            "tags": []
          },
          "execution_count": 23
        }
      ]
    },
    {
      "cell_type": "code",
      "metadata": {
        "id": "1IVNKBzbemTe",
        "colab_type": "code",
        "colab": {}
      },
      "source": [
        ""
      ],
      "execution_count": 0,
      "outputs": []
    }
  ]
}